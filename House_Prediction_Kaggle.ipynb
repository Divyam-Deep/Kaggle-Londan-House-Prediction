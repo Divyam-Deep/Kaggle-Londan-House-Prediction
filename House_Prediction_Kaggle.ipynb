{
  "nbformat": 4,
  "nbformat_minor": 0,
  "metadata": {
    "colab": {
      "provenance": [],
      "gpuType": "V28",
      "private_outputs": true,
      "authorship_tag": "ABX9TyOXPh+UXkuhowm1CZLA+PrQ",
      "include_colab_link": true
    },
    "kernelspec": {
      "name": "python3",
      "display_name": "Python 3"
    },
    "language_info": {
      "name": "python"
    },
    "accelerator": "TPU"
  },
  "cells": [
    {
      "cell_type": "markdown",
      "metadata": {
        "id": "view-in-github",
        "colab_type": "text"
      },
      "source": [
        "<a href=\"https://colab.research.google.com/github/Divyam-Deep/Kaggle-Londan-House-Prediction/blob/main/House_Prediction_Kaggle.ipynb\" target=\"_parent\"><img src=\"https://colab.research.google.com/assets/colab-badge.svg\" alt=\"Open In Colab\"/></a>"
      ]
    },
    {
      "cell_type": "code",
      "execution_count": null,
      "metadata": {
        "id": "MfyU2WjAbZyN"
      },
      "outputs": [],
      "source": [
        "import pandas as pd\n",
        "import numpy as np\n",
        "import matplotlib.pyplot as plt\n",
        "import seaborn as sns\n",
        "sns.set()\n",
        "from sklearn.linear_model import LinearRegression\n",
        "from sklearn import preprocessing\n",
        "from sklearn.preprocessing import StandardScaler"
      ]
    },
    {
      "cell_type": "code",
      "source": [
        "data = pd.read_csv('/content/train (1).csv')\n",
        "data.reset_index(drop=True, inplace= True)\n",
        "data.head()"
      ],
      "metadata": {
        "id": "jwwCqHXgcH1O"
      },
      "execution_count": null,
      "outputs": []
    },
    {
      "cell_type": "code",
      "source": [
        "data.shape"
      ],
      "metadata": {
        "id": "3fP-0CP4cSut"
      },
      "execution_count": null,
      "outputs": []
    },
    {
      "cell_type": "code",
      "source": [
        "data.isnull().sum()"
      ],
      "metadata": {
        "id": "2neC2rPkdr9F"
      },
      "execution_count": null,
      "outputs": []
    },
    {
      "cell_type": "code",
      "source": [
        "data.dropna(subset=['floorAreaSqM','tenure','propertyType','bedrooms'], inplace=True)\n"
      ],
      "metadata": {
        "id": "xd-TYNe6dukm"
      },
      "execution_count": null,
      "outputs": []
    },
    {
      "cell_type": "code",
      "source": [
        "data.isnull().sum()"
      ],
      "metadata": {
        "id": "anNPQu5HeYVY"
      },
      "execution_count": null,
      "outputs": []
    },
    {
      "cell_type": "code",
      "source": [
        "data.dtypes"
      ],
      "metadata": {
        "id": "9uu360--fY9A"
      },
      "execution_count": null,
      "outputs": []
    },
    {
      "cell_type": "code",
      "source": [
        "data['bathrooms'].fillna(data['bathrooms'].median(), inplace= True)\n",
        "data['livingRooms'].fillna(data['livingRooms'].median(), inplace= True)\n",
        "data['currentEnergyRating'].fillna(data['currentEnergyRating'].mode()[0],inplace=True)"
      ],
      "metadata": {
        "id": "OaMXRK-FgnR5"
      },
      "execution_count": null,
      "outputs": []
    },
    {
      "cell_type": "code",
      "source": [
        "data.isnull().sum()"
      ],
      "metadata": {
        "id": "YreS5v-HiFtJ"
      },
      "execution_count": null,
      "outputs": []
    },
    {
      "cell_type": "code",
      "source": [
        "data.describe(include= 'all')"
      ],
      "metadata": {
        "id": "unxn_mIMiSUz"
      },
      "execution_count": null,
      "outputs": []
    },
    {
      "cell_type": "code",
      "source": [
        "data.head()"
      ],
      "metadata": {
        "id": "tcGOK3Y9iiM2"
      },
      "execution_count": null,
      "outputs": []
    },
    {
      "cell_type": "code",
      "source": [
        "new_data = data.copy()"
      ],
      "metadata": {
        "id": "S6Fezc0ImwYg"
      },
      "execution_count": null,
      "outputs": []
    },
    {
      "cell_type": "code",
      "source": [
        "sns.distplot(new_data.price)\n",
        "plt.show()"
      ],
      "metadata": {
        "id": "35O2fRWCivLf"
      },
      "execution_count": null,
      "outputs": []
    },
    {
      "cell_type": "code",
      "source": [
        "q = new_data.price.quantile(0.95)\n",
        "new_data = new_data[new_data.price <q]\n",
        "sns.distplot(new_data.price)\n",
        "plt.show()"
      ],
      "metadata": {
        "id": "HJU0V5I8jNxB"
      },
      "execution_count": null,
      "outputs": []
    },
    {
      "cell_type": "code",
      "source": [
        "new_data.head()"
      ],
      "metadata": {
        "id": "qrzlWC1lj3bn"
      },
      "execution_count": null,
      "outputs": []
    },
    {
      "cell_type": "code",
      "source": [
        "sns.distplot(new_data.bathrooms)\n",
        "plt.show()"
      ],
      "metadata": {
        "id": "CSKjH8kWkDak"
      },
      "execution_count": null,
      "outputs": []
    },
    {
      "cell_type": "code",
      "source": [
        "q = new_data.bathrooms.quantile(0.99)\n",
        "new_data = new_data[new_data.bathrooms <q]\n",
        "sns.distplot(new_data.bathrooms)\n",
        "plt.show()"
      ],
      "metadata": {
        "id": "c2SBqZmCkLhz"
      },
      "execution_count": null,
      "outputs": []
    },
    {
      "cell_type": "code",
      "source": [
        "new_data.head()"
      ],
      "metadata": {
        "id": "-NcVjpeSkbcO"
      },
      "execution_count": null,
      "outputs": []
    },
    {
      "cell_type": "code",
      "source": [
        "sns.distplot(new_data.bedrooms)\n",
        "plt.show()"
      ],
      "metadata": {
        "id": "9KT7rNllkuT7"
      },
      "execution_count": null,
      "outputs": []
    },
    {
      "cell_type": "code",
      "source": [
        "q = new_data.bedrooms.quantile(0.99)\n",
        "new_data = new_data[new_data.bedrooms <q]\n",
        "sns.distplot(new_data.bedrooms)\n",
        "plt.show()"
      ],
      "metadata": {
        "id": "sd3WvxkxlaPp"
      },
      "execution_count": null,
      "outputs": []
    },
    {
      "cell_type": "code",
      "source": [
        "new_data.head(1)"
      ],
      "metadata": {
        "id": "WiA5sMJXldXq"
      },
      "execution_count": null,
      "outputs": []
    },
    {
      "cell_type": "code",
      "source": [
        "sns.distplot(new_data.floorAreaSqM)\n",
        "plt.show()"
      ],
      "metadata": {
        "id": "IxmdG7y9liFc"
      },
      "execution_count": null,
      "outputs": []
    },
    {
      "cell_type": "code",
      "source": [
        "q = new_data.floorAreaSqM.quantile(0.99)\n",
        "new_data = new_data[new_data.floorAreaSqM <q]\n",
        "sns.distplot(new_data.floorAreaSqM)\n",
        "plt.show()"
      ],
      "metadata": {
        "id": "ZcXZmcaZlo8D"
      },
      "execution_count": null,
      "outputs": []
    },
    {
      "cell_type": "code",
      "source": [
        "sns.distplot(new_data.livingRooms)\n",
        "plt.show()"
      ],
      "metadata": {
        "id": "rkSJzTUeltg6"
      },
      "execution_count": null,
      "outputs": []
    },
    {
      "cell_type": "code",
      "source": [
        "q = new_data.livingRooms.quantile(0.99)\n",
        "new_data = new_data[new_data.livingRooms <q]\n",
        "sns.distplot(new_data.livingRooms)\n",
        "plt.show()"
      ],
      "metadata": {
        "id": "hONZqJebl9RR"
      },
      "execution_count": null,
      "outputs": []
    },
    {
      "cell_type": "code",
      "source": [
        "new_data.head()"
      ],
      "metadata": {
        "id": "vfi2P_XomQ8w"
      },
      "execution_count": null,
      "outputs": []
    },
    {
      "cell_type": "code",
      "source": [
        "sns.distplot(new_data.floorAreaSqM)\n",
        "plt.show()"
      ],
      "metadata": {
        "id": "trhbQAaFmaVf"
      },
      "execution_count": null,
      "outputs": []
    },
    {
      "cell_type": "code",
      "source": [
        "data.head(1)"
      ],
      "metadata": {
        "id": "WyaXAokmmlpl"
      },
      "execution_count": null,
      "outputs": []
    },
    {
      "cell_type": "code",
      "source": [
        "data_preprocessed = new_data.copy()"
      ],
      "metadata": {
        "id": "lHFpjHu6ptwJ"
      },
      "execution_count": null,
      "outputs": []
    },
    {
      "cell_type": "code",
      "source": [
        "from statsmodels.stats.outliers_influence import variance_inflation_factor\n",
        "veriable = data_preprocessed[['floorAreaSqM','bathrooms','bedrooms','livingRooms']]\n",
        "vif = pd.DataFrame()\n",
        "vif['VIF'] = [variance_inflation_factor(veriable.values,i) for i in range(veriable.shape[1])]\n",
        "vif"
      ],
      "metadata": {
        "id": "9i4oXZQ6p7AU"
      },
      "execution_count": null,
      "outputs": []
    },
    {
      "cell_type": "code",
      "source": [
        "data_preprocessed.drop(['floorAreaSqM','bedrooms'], axis = 1)"
      ],
      "metadata": {
        "id": "j0B_euBnqNLw"
      },
      "execution_count": null,
      "outputs": []
    },
    {
      "cell_type": "code",
      "source": [
        "from statsmodels.stats.outliers_influence import variance_inflation_factor\n",
        "veriable = data_preprocessed[['bathrooms','livingRooms']]\n",
        "vif = pd.DataFrame()\n",
        "vif['VIF'] = [variance_inflation_factor(veriable.values,i) for i in range(veriable.shape[1])]\n",
        "vif"
      ],
      "metadata": {
        "id": "nS2m4hGgrnhW"
      },
      "execution_count": null,
      "outputs": []
    },
    {
      "cell_type": "code",
      "source": [
        "data_dummy = data_preprocessed.copy()\n",
        "data_dummy.head()"
      ],
      "metadata": {
        "id": "tF6jpYoXs00H"
      },
      "execution_count": null,
      "outputs": []
    },
    {
      "cell_type": "code",
      "source": [
        "# Randomly sample 50% of the data\n",
        "data_dropped = data_dummy.sample(frac=0.8, random_state=42)  # 'frac=0.6' means 60% of the data\n",
        "\n",
        "# Now drop the sampled rows from the original dataset\n",
        "data_remaining = data_dummy.drop(data_dropped.index)"
      ],
      "metadata": {
        "id": "1gaQw4_XzCdl"
      },
      "execution_count": null,
      "outputs": []
    },
    {
      "cell_type": "code",
      "source": [
        "data_remaining.shape"
      ],
      "metadata": {
        "id": "weKUJlBczogO"
      },
      "execution_count": null,
      "outputs": []
    },
    {
      "cell_type": "code",
      "source": [
        "target = data_remaining['price']"
      ],
      "metadata": {
        "id": "5Ji02Dyi0pjO"
      },
      "execution_count": null,
      "outputs": []
    },
    {
      "cell_type": "code",
      "source": [
        "target"
      ],
      "metadata": {
        "id": "0EgSpWyf2RGi"
      },
      "execution_count": null,
      "outputs": []
    },
    {
      "cell_type": "code",
      "source": [
        "measure = data_remaining.drop(['price'], axis = 1)"
      ],
      "metadata": {
        "id": "6TmxRnGjzu58"
      },
      "execution_count": null,
      "outputs": []
    },
    {
      "cell_type": "code",
      "source": [
        "measure.head()"
      ],
      "metadata": {
        "id": "KnkZmj7i2Um2"
      },
      "execution_count": null,
      "outputs": []
    },
    {
      "cell_type": "code",
      "source": [
        "measure = pd.get_dummies(data_dummy, drop_first= True).astype(int)"
      ],
      "metadata": {
        "id": "OwXhQLxRtxeh"
      },
      "execution_count": null,
      "outputs": []
    },
    {
      "cell_type": "code",
      "source": [
        "measure.head(5)"
      ],
      "metadata": {
        "id": "N6kP_iNHuANn"
      },
      "execution_count": null,
      "outputs": []
    },
    {
      "cell_type": "code",
      "source": [
        "measure.dtypes"
      ],
      "metadata": {
        "id": "Du9NRPrP4nFQ"
      },
      "execution_count": null,
      "outputs": []
    },
    {
      "cell_type": "code",
      "source": [
        "scaler = StandardScaler()\n",
        "scaler.fit(measure)"
      ],
      "metadata": {
        "id": "QIxBehts4taW"
      },
      "execution_count": null,
      "outputs": []
    },
    {
      "cell_type": "code",
      "source": [
        "measures_scaled = scaler.transform(measure)"
      ],
      "metadata": {
        "id": "oMryESUF45Zo"
      },
      "execution_count": null,
      "outputs": []
    },
    {
      "cell_type": "code",
      "source": [
        "reg = LinearRegression()\n",
        "reg.fit(measure, target)"
      ],
      "metadata": {
        "id": "6cF_JtYm6y3O"
      },
      "execution_count": null,
      "outputs": []
    },
    {
      "cell_type": "code",
      "source": [
        "yhat = reg.predict(measure)"
      ],
      "metadata": {
        "id": "8O4m-FxD69OI"
      },
      "execution_count": null,
      "outputs": []
    },
    {
      "cell_type": "code",
      "source": [
        "plt.scatter(target, yhat)\n",
        "plt.xlabel('Targets')\n",
        "plt.ylabel('Predictions')\n",
        "plt.show()"
      ],
      "metadata": {
        "id": "o5uULEq47NiJ"
      },
      "execution_count": null,
      "outputs": []
    },
    {
      "cell_type": "code",
      "source": [
        "sns.distplot(target - yhat)\n",
        "plt.show()"
      ],
      "metadata": {
        "id": "CxPl6-It-HJU"
      },
      "execution_count": null,
      "outputs": []
    },
    {
      "cell_type": "code",
      "source": [
        "reg.score(measure, target)"
      ],
      "metadata": {
        "id": "8bN9zddE-f-g"
      },
      "execution_count": null,
      "outputs": []
    },
    {
      "cell_type": "code",
      "source": [
        "#testing cant be done cause of my insufficent ram"
      ],
      "metadata": {
        "id": "Wu5xOWnQ-kY6"
      },
      "execution_count": null,
      "outputs": []
    }
  ]
}